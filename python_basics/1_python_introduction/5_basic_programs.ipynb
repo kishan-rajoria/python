{
 "cells": [
  {
   "cell_type": "code",
   "execution_count": 1,
   "metadata": {},
   "outputs": [
    {
     "name": "stdout",
     "output_type": "stream",
     "text": [
      "your 1st number is:  10\n",
      "your 2nd number is:  20\n",
      "your results is:  1020\n"
     ]
    }
   ],
   "source": [
    "a=input(\"Enter your 1st number: \")\n",
    "b=input(\"Enter your 2nd number: \")\n",
    "\n",
    "print(\"your 1st number is: \", a)\n",
    "print(\"your 2nd number is: \", b)\n",
    "\n",
    "c=a+b\n",
    "\n",
    "print(\"addition of number is: \", c)"
   ]
  },
  {
   "cell_type": "code",
   "execution_count": 2,
   "metadata": {},
   "outputs": [
    {
     "name": "stdout",
     "output_type": "stream",
     "text": [
      "your 1st number is:  10\n",
      "your 2nd number is:  20\n",
      "addition of number is:  30\n"
     ]
    }
   ],
   "source": [
    "\n",
    "a=int(input(\"Enter your 1st number: \"))\n",
    "b=int(input(\"Enter your 2nd number: \"))\n",
    "\n",
    "print(\"your 1st number is: \", a)\n",
    "print(\"your 2nd number is: \", b)\n",
    "\n",
    "c=a+b\n",
    "\n",
    "print(\"addition of number is: \", c)"
   ]
  },
  {
   "cell_type": "code",
   "execution_count": 3,
   "metadata": {},
   "outputs": [
    {
     "name": "stdout",
     "output_type": "stream",
     "text": [
      "your 1st number is:  10\n",
      "your 2nd number is:  20\n",
      "addition of number is:  30\n",
      "subtraction of number is:  -10\n",
      "multiplication of number is:  200\n",
      "division of number is:  0.5\n"
     ]
    }
   ],
   "source": [
    "\n",
    "a=int(input(\"Enter your 1st number: \"))\n",
    "b=int(input(\"Enter your 2nd number: \"))\n",
    "\n",
    "print(\"your 1st number is: \", a)\n",
    "print(\"your 2nd number is: \", b)\n",
    "\n",
    "c=a+b\n",
    "print(\"addition of number is: \", c)\n",
    "\n",
    "c=a-b\n",
    "print(\"subtraction of number is: \", c)\n",
    "\n",
    "c=a*b\n",
    "print(\"multiplication of number is: \", c)\n",
    "\n",
    "c=a/b\n",
    "print(\"division of number is: \", c)"
   ]
  },
  {
   "cell_type": "code",
   "execution_count": null,
   "metadata": {},
   "outputs": [],
   "source": []
  }
 ],
 "metadata": {
  "kernelspec": {
   "display_name": "base",
   "language": "python",
   "name": "python3"
  },
  "language_info": {
   "codemirror_mode": {
    "name": "ipython",
    "version": 3
   },
   "file_extension": ".py",
   "mimetype": "text/x-python",
   "name": "python",
   "nbconvert_exporter": "python",
   "pygments_lexer": "ipython3",
   "version": "3.11.7"
  }
 },
 "nbformat": 4,
 "nbformat_minor": 2
}
