{
 "cells": [
  {
   "cell_type": "markdown",
   "metadata": {},
   "source": [
    "Question 1: Create an Acronym for Electrical Terms"
   ]
  },
  {
   "cell_type": "code",
   "execution_count": 1,
   "metadata": {},
   "outputs": [
    {
     "name": "stdout",
     "output_type": "stream",
     "text": [
      "Acronyms: ['AC', 'DC', 'LED', 'FET']\n"
     ]
    }
   ],
   "source": [
    "# List of electrical terms\n",
    "terms = [\"Alternating Current\", \"Direct Current\", \"Light Emitting Diode\", \"Field Effect Transistor\"]\n",
    "\n",
    "acronyms = []\n",
    "\n",
    "for term in terms:\n",
    "    words=term.split()\n",
    "    acronym=\"\"\n",
    "    for word in words:\n",
    "        acronym += word[0].upper()\n",
    "    acronyms.append(acronym)\n",
    "    \n",
    "print(\"Acronyms:\", acronyms)"
   ]
  },
  {
   "cell_type": "markdown",
   "metadata": {},
   "source": [
    "Question 2: Reverse Each Electrical Term"
   ]
  },
  {
   "cell_type": "code",
   "execution_count": 6,
   "metadata": {},
   "outputs": [
    {
     "name": "stdout",
     "output_type": "stream",
     "text": [
      "reversed items:  ['r', 'o', 't', 's', 'i', 's', 'n', 'a', 'r', 'T', ' ', 't', 'c', 'e', 'f', 'f', 'E', ' ', 'd', 'l', 'e', 'i', 'F', '', 'r', 'o', 't', 's', 'i', 's', 'n', 'a', 'r', 'T', ' ', 't', 'c', 'e', 'f', 'f', 'E', ' ', 'd', 'l', 'e', 'i', 'F', '', 'r', 'o', 't', 's', 'i', 's', 'n', 'a', 'r', 'T', ' ', 't', 'c', 'e', 'f', 'f', 'E', ' ', 'd', 'l', 'e', 'i', 'F', '', 'r', 'o', 't', 's', 'i', 's', 'n', 'a', 'r', 'T', ' ', 't', 'c', 'e', 'f', 'f', 'E', ' ', 'd', 'l', 'e', 'i', 'F', '']\n"
     ]
    }
   ],
   "source": [
    "items = [\"Resistor\", \"Capacitor\", \"Inductor\", \"Transformer\"]\n",
    "\n",
    "reversed_items=[]\n",
    "\n",
    "for item in items:\n",
    "    reversed_item=\"\"\n",
    "    k=len(term)-1\n",
    "    while k>=0:\n",
    "        reversed_items += term[k]\n",
    "        k-= 1\n",
    "    reversed_items.append(reversed_item)\n",
    "    \n",
    "    \n",
    "print(\"reversed items: \", reversed_items)"
   ]
  },
  {
   "cell_type": "markdown",
   "metadata": {},
   "source": [
    "Question 3: Count Vowels in Electrical Terms"
   ]
  },
  {
   "cell_type": "code",
   "execution_count": 7,
   "metadata": {},
   "outputs": [
    {
     "name": "stdout",
     "output_type": "stream",
     "text": [
      "Vowel Counts: [3, 3, 4, 4]\n"
     ]
    }
   ],
   "source": [
    "# List of electrical terms\n",
    "terms = [\"Diode\", \"Transistor\", \"Rectifier\", \"Oscillator\"]\n",
    "\n",
    "vowel_counts = []\n",
    "\n",
    "for term in terms:\n",
    "    count = 0\n",
    "    vowels = \"aeiouAEIOU\"\n",
    "    for char in term:\n",
    "        if char in vowels:\n",
    "            count += 1\n",
    "    vowel_counts.append(count)\n",
    "\n",
    "print(\"Vowel Counts:\", vowel_counts)\n"
   ]
  },
  {
   "cell_type": "markdown",
   "metadata": {},
   "source": [
    "Question 4: Check if Electrical Terms are Palindromes"
   ]
  },
  {
   "cell_type": "code",
   "execution_count": 8,
   "metadata": {},
   "outputs": [
    {
     "name": "stdout",
     "output_type": "stream",
     "text": [
      "Palindrome Check: [True, False, True, False]\n"
     ]
    }
   ],
   "source": [
    "# List of electrical terms\n",
    "terms = [\"rotor\", \"capacitor\", \"level\", \"resistor\"]\n",
    "\n",
    "palindromes = []\n",
    "\n",
    "for term in terms:\n",
    "    term = term.lower()\n",
    "    left = 0\n",
    "    right = len(term) - 1\n",
    "    is_palindrome = True\n",
    "    \n",
    "    while left < right:\n",
    "        if term[left] != term[right]:\n",
    "            is_palindrome = False\n",
    "            break\n",
    "        left += 1\n",
    "        right -= 1\n",
    "    \n",
    "    palindromes.append(is_palindrome)\n",
    "\n",
    "print(\"Palindrome Check:\", palindromes)\n"
   ]
  },
  {
   "cell_type": "markdown",
   "metadata": {},
   "source": [
    "Question 5: Find the Longest Electrical Term"
   ]
  },
  {
   "cell_type": "code",
   "execution_count": 9,
   "metadata": {},
   "outputs": [
    {
     "name": "stdout",
     "output_type": "stream",
     "text": [
      "Longest Term: Electromagnetism\n"
     ]
    }
   ],
   "source": [
    "# List of electrical terms\n",
    "terms = [\"Resistor\", \"Capacitor\", \"Inductor\", \"Electromagnetism\"]\n",
    "\n",
    "longest_term = \"\"\n",
    "max_length = 0\n",
    "\n",
    "for term in terms:\n",
    "    if len(term) > max_length:\n",
    "        max_length = len(term)\n",
    "        longest_term = term\n",
    "\n",
    "print(\"Longest Term:\", longest_term)\n"
   ]
  },
  {
   "cell_type": "code",
   "execution_count": null,
   "metadata": {},
   "outputs": [],
   "source": []
  }
 ],
 "metadata": {
  "kernelspec": {
   "display_name": "base",
   "language": "python",
   "name": "python3"
  },
  "language_info": {
   "codemirror_mode": {
    "name": "ipython",
    "version": 3
   },
   "file_extension": ".py",
   "mimetype": "text/x-python",
   "name": "python",
   "nbconvert_exporter": "python",
   "pygments_lexer": "ipython3",
   "version": "3.11.7"
  }
 },
 "nbformat": 4,
 "nbformat_minor": 2
}
