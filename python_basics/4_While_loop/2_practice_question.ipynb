{
 "cells": [
  {
   "cell_type": "markdown",
   "metadata": {},
   "source": [
    "- Question:1 Calculate the resistance in series"
   ]
  },
  {
   "cell_type": "code",
   "execution_count": 2,
   "metadata": {},
   "outputs": [
    {
     "name": "stdout",
     "output_type": "stream",
     "text": [
      "total resistance in series:  150 ohms\n"
     ]
    }
   ],
   "source": [
    "#list of resistance in ohms\n",
    "\n",
    "resistances = [10, 20, 30, 40, 50]\n",
    "total_resistance = 0\n",
    "i = 0\n",
    "\n",
    "while i<len(resistances):\n",
    "    total_resistance += resistances[i]\n",
    "    i += 1\n",
    "    \n",
    "print(\"total resistance in series: \", total_resistance, \"ohms\")"
   ]
  },
  {
   "cell_type": "markdown",
   "metadata": {},
   "source": [
    "- Question 2: Calculate the Resistance in Parallel"
   ]
  },
  {
   "cell_type": "code",
   "execution_count": 6,
   "metadata": {},
   "outputs": [
    {
     "name": "stdout",
     "output_type": "stream",
     "text": [
      "total_resistance in parallel:  4.37956204379562 ohms\n"
     ]
    }
   ],
   "source": [
    "#list of all resistance\n",
    "resistances=[10, 20, 30, 40, 50]\n",
    "total_reciprocal=0\n",
    "i=0\n",
    "\n",
    "while i<len(resistances):\n",
    "    total_reciprocal += 1/resistances[i]\n",
    "    i += 1\n",
    "    \n",
    "total_resistance=1/total_reciprocal\n",
    "\n",
    "print(\"total_resistance in parallel: \", total_resistance, \"ohms\")"
   ]
  },
  {
   "cell_type": "markdown",
   "metadata": {},
   "source": [
    "- Question 3: Power Consumption Calculation"
   ]
  },
  {
   "cell_type": "code",
   "execution_count": 4,
   "metadata": {},
   "outputs": [
    {
     "name": "stdout",
     "output_type": "stream",
     "text": [
      "total power consumption:  1582 watts\n"
     ]
    }
   ],
   "source": [
    "power_consumption=[100, 185, 297, 450, 550]\n",
    "total_power=0\n",
    "i=0\n",
    "\n",
    "while i<len(power_consumption):\n",
    "    total_power += power_consumption[i]\n",
    "    i += 1\n",
    "    \n",
    "print(\"total power consumption: \", total_power, \"watts\")"
   ]
  },
  {
   "cell_type": "markdown",
   "metadata": {},
   "source": [
    "- Question 4: Voltage Divider Calculation"
   ]
  },
  {
   "cell_type": "code",
   "execution_count": 9,
   "metadata": {},
   "outputs": [
    {
     "name": "stdout",
     "output_type": "stream",
     "text": [
      "output voltage across each resistance:  [2.0, 4.0, 6.0] volts\n"
     ]
    }
   ],
   "source": [
    "resistances = [10, 20, 30]\n",
    "input_voltage=12\n",
    "total_resistance=0\n",
    "i=0\n",
    "\n",
    "while i < len(resistances):\n",
    "    total_resistance +=resistances[i]\n",
    "    i += 1\n",
    "    \n",
    "output_voltages = []\n",
    "i = 0\n",
    "\n",
    "while i < len(resistances):\n",
    "    sub_voltages = (resistances[i]/ total_resistance)*input_voltage\n",
    "    output_voltages.append(sub_voltages)\n",
    "    i+=1\n",
    "    \n",
    "print(\"output voltage across each resistance: \", output_voltages, \"volts\")"
   ]
  },
  {
   "cell_type": "markdown",
   "metadata": {},
   "source": [
    "- Question 5: Capacitor Charging in RC Circuit\n",
    ">Simulate the charging of a capacitor in an RC circuit over time. Given a time constant (RC) and time steps, calculate the voltage across the capacitor at each time step."
   ]
  },
  {
   "cell_type": "code",
   "execution_count": 10,
   "metadata": {},
   "outputs": [
    {
     "name": "stdout",
     "output_type": "stream",
     "text": [
      "Time: 0s, voltage across Capacitor:  0.000000\n",
      "Time: 1s, voltage across Capacitor:  1.812692\n",
      "Time: 2s, voltage across Capacitor:  3.296800\n",
      "Time: 3s, voltage across Capacitor:  4.511884\n",
      "Time: 4s, voltage across Capacitor:  5.506710\n",
      "Time: 5s, voltage across Capacitor:  6.321206\n",
      "Time: 6s, voltage across Capacitor:  6.988058\n",
      "Time: 7s, voltage across Capacitor:  7.534030\n",
      "Time: 8s, voltage across Capacitor:  7.981035\n",
      "Time: 9s, voltage across Capacitor:  8.347011\n",
      "Time: 10s, voltage across Capacitor:  8.646647\n"
     ]
    }
   ],
   "source": [
    "import math\n",
    "\n",
    "#time constant in seconds\n",
    "RC=5\n",
    "\n",
    "#time steps in seconds\n",
    "time_steps=[0,1,2,3,4,5,6,7,8,9,10]\n",
    "input_voltage=10\n",
    "i=0\n",
    "\n",
    "while i<len(time_steps):\n",
    "    time = time_steps[i]\n",
    "    voltage = input_voltage*(1-math.exp(-time /RC))\n",
    "    print(f\"Time: {time}s, voltage across Capacitor: {voltage: 02f}\")\n",
    "    i += 1\n",
    "    "
   ]
  },
  {
   "cell_type": "markdown",
   "metadata": {},
   "source": [
    "- Question 6: Inductor Current in RL Circuit\n",
    ">Simulate the current through an inductor in an RL circuit over time. Given a time constant (L/R) and time steps, calculate the current through the inductor at each time step."
   ]
  },
  {
   "cell_type": "code",
   "execution_count": 11,
   "metadata": {},
   "outputs": [
    {
     "name": "stdout",
     "output_type": "stream",
     "text": [
      "Time: 0s, current through Inductor:  0.000000A\n",
      "Time: 1s, current through Inductor:  1.812692A\n",
      "Time: 2s, current through Inductor:  3.296800A\n",
      "Time: 3s, current through Inductor:  4.511884A\n",
      "Time: 4s, current through Inductor:  5.506710A\n",
      "Time: 5s, current through Inductor:  6.321206A\n",
      "Time: 6s, current through Inductor:  6.988058A\n",
      "Time: 7s, current through Inductor:  7.534030A\n",
      "Time: 8s, current through Inductor:  7.981035A\n",
      "Time: 9s, current through Inductor:  8.347011A\n",
      "Time: 10s, current through Inductor:  8.646647A\n"
     ]
    }
   ],
   "source": [
    "import math\n",
    "\n",
    "#time constant\n",
    "LR=5\n",
    "\n",
    "#time steps\n",
    "time_steps = [0,1,2,3,4,5,6,7,8,9,10]\n",
    "input_current = 10\n",
    "i = 0\n",
    "\n",
    "while i < len(time_steps):\n",
    "    time = time_steps[i]\n",
    "    current = input_current * (1 - math.exp(-time / LR))\n",
    "    print(f\"Time: {time}s, current through Inductor: {current: 02f}A\")\n",
    "    i += 1"
   ]
  },
  {
   "cell_type": "code",
   "execution_count": null,
   "metadata": {},
   "outputs": [],
   "source": []
  }
 ],
 "metadata": {
  "kernelspec": {
   "display_name": "base",
   "language": "python",
   "name": "python3"
  },
  "language_info": {
   "codemirror_mode": {
    "name": "ipython",
    "version": 3
   },
   "file_extension": ".py",
   "mimetype": "text/x-python",
   "name": "python",
   "nbconvert_exporter": "python",
   "pygments_lexer": "ipython3",
   "version": "3.11.7"
  }
 },
 "nbformat": 4,
 "nbformat_minor": 2
}
