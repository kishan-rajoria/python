{
 "cells": [
  {
   "cell_type": "code",
   "execution_count": 7,
   "metadata": {},
   "outputs": [
    {
     "name": "stdout",
     "output_type": "stream",
     "text": [
      "987"
     ]
    }
   ],
   "source": [
    "#reverse the number\n",
    "n=int(input(\"Enter the number: \"))\n",
    "\n",
    "while n>0:\n",
    "    r=n%10\n",
    "    print(r, end=\"\")\n",
    "    n=n//10"
   ]
  },
  {
   "cell_type": "code",
   "execution_count": 8,
   "metadata": {},
   "outputs": [
    {
     "name": "stdout",
     "output_type": "stream",
     "text": [
      "Addition = 12\n"
     ]
    }
   ],
   "source": [
    "#addition of digits\n",
    "\n",
    "n=int(input(\"enter the number: \"))\n",
    "\n",
    "add =0\n",
    "\n",
    "while n>0:\n",
    "    r=n%10\n",
    "    add=add+r\n",
    "    n=n//10\n",
    "    \n",
    "print(\"Addition =\", add)"
   ]
  },
  {
   "cell_type": "markdown",
   "metadata": {},
   "source": [
    "# check palindrome for word"
   ]
  },
  {
   "cell_type": "code",
   "execution_count": 12,
   "metadata": {},
   "outputs": [
    {
     "name": "stdout",
     "output_type": "stream",
     "text": [
      "'radar' is a palindrome.\n"
     ]
    }
   ],
   "source": [
    "# Input word\n",
    "word = \"radar\"\n",
    "# Convert to lowercase to handle case insensitivity\n",
    "word = word.lower()\n",
    "\n",
    "# Initialize pointers\n",
    "left = 0\n",
    "right = len(word) - 1\n",
    "\n",
    "is_palindrome = True\n",
    "\n",
    "while left < right:\n",
    "    if word[left] != word[right]:\n",
    "        is_palindrome = False\n",
    "        break\n",
    "    left += 1\n",
    "    right -= 1\n",
    "\n",
    "if is_palindrome:\n",
    "    print(f\"'{word}' is a palindrome.\")\n",
    "else:\n",
    "    print(f\"'{word}' is not a palindrome.\")\n"
   ]
  },
  {
   "cell_type": "code",
   "execution_count": 13,
   "metadata": {},
   "outputs": [
    {
     "name": "stdout",
     "output_type": "stream",
     "text": [
      "'kishan' is not a palindrome.\n"
     ]
    }
   ],
   "source": [
    "# Input word\n",
    "word = \"kishan\"\n",
    "# Convert to lowercase to handle case insensitivity\n",
    "word = word.lower()\n",
    "\n",
    "# Initialize pointers\n",
    "left = 0\n",
    "right = len(word) - 1\n",
    "\n",
    "is_palindrome = True\n",
    "\n",
    "while left < right:\n",
    "    if word[left] != word[right]:\n",
    "        is_palindrome = False\n",
    "        break\n",
    "    left += 1\n",
    "    right -= 1\n",
    "\n",
    "if is_palindrome:\n",
    "    print(f\"'{word}' is a palindrome.\")\n",
    "else:\n",
    "    print(f\"'{word}' is not a palindrome.\")\n"
   ]
  },
  {
   "cell_type": "markdown",
   "metadata": {},
   "source": [
    "# check palindrome for number"
   ]
  },
  {
   "cell_type": "code",
   "execution_count": 14,
   "metadata": {},
   "outputs": [
    {
     "name": "stdout",
     "output_type": "stream",
     "text": [
      "12321 is a palindrome.\n"
     ]
    }
   ],
   "source": [
    "# Input number\n",
    "number = 12321\n",
    "# Convert number to string\n",
    "num_str = str(number)\n",
    "\n",
    "# Initialize pointers\n",
    "left = 0\n",
    "right = len(num_str) - 1\n",
    "\n",
    "is_palindrome = True\n",
    "\n",
    "while left < right:\n",
    "    if num_str[left] != num_str[right]:\n",
    "        is_palindrome = False\n",
    "        break\n",
    "    left += 1\n",
    "    right -= 1\n",
    "\n",
    "if is_palindrome:\n",
    "    print(f\"{number} is a palindrome.\")\n",
    "else:\n",
    "    print(f\"{number} is not a palindrome.\")\n"
   ]
  },
  {
   "cell_type": "code",
   "execution_count": 15,
   "metadata": {},
   "outputs": [
    {
     "name": "stdout",
     "output_type": "stream",
     "text": [
      "1234567 is not a palindrome.\n"
     ]
    }
   ],
   "source": [
    "# Input number\n",
    "number = 1234567\n",
    "# Convert number to string\n",
    "num_str = str(number)\n",
    "\n",
    "# Initialize pointers\n",
    "left = 0\n",
    "right = len(num_str) - 1\n",
    "\n",
    "is_palindrome = True\n",
    "\n",
    "while left < right:\n",
    "    if num_str[left] != num_str[right]:\n",
    "        is_palindrome = False\n",
    "        break\n",
    "    left += 1\n",
    "    right -= 1\n",
    "\n",
    "if is_palindrome:\n",
    "    print(f\"{number} is a palindrome.\")\n",
    "else:\n",
    "    print(f\"{number} is not a palindrome.\")\n"
   ]
  },
  {
   "cell_type": "code",
   "execution_count": null,
   "metadata": {},
   "outputs": [],
   "source": []
  }
 ],
 "metadata": {
  "kernelspec": {
   "display_name": "base",
   "language": "python",
   "name": "python3"
  },
  "language_info": {
   "codemirror_mode": {
    "name": "ipython",
    "version": 3
   },
   "file_extension": ".py",
   "mimetype": "text/x-python",
   "name": "python",
   "nbconvert_exporter": "python",
   "pygments_lexer": "ipython3",
   "version": "3.11.7"
  }
 },
 "nbformat": 4,
 "nbformat_minor": 2
}
