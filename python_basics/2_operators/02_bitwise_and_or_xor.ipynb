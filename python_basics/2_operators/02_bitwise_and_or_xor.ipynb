{
 "cells": [
  {
   "cell_type": "markdown",
   "metadata": {},
   "source": [
    "bitwise operators"
   ]
  },
  {
   "cell_type": "markdown",
   "metadata": {},
   "source": [
    "& -> bitwise and <br>\n",
    "| -> bitwise OR <br>\n",
    "^ -> bitwise XOR <br>\n",
    "<< -> bitwise leftshift <br>\n",
    "\">> -> bitwise rightshift <br>"
   ]
  },
  {
   "cell_type": "markdown",
   "metadata": {},
   "source": [
    ">>Bitwise AND (&)\n",
    "The bitwise AND operation compares each bit of two integers and returns a new integer where each bit is set to 1 only if both corresponding bits of the operands are 1. Otherwise, it is set to 0.\n",
    "\n",
    ">>Bitwise OR (|)\n",
    "The bitwise OR operation compares each bit of two integers and returns a new integer where each bit is set to 1 if at least one of the corresponding bits of the operands is 1. If both bits are 0, the result is 0.\n",
    "\n",
    ">>Bitwise XOR (^)\n",
    "The bitwise XOR operation compares each bit of two integers and returns a new integer where each bit is set to 1 if the corresponding bits of the operands are different. If they are the same, the result is 0."
   ]
  },
  {
   "cell_type": "code",
   "execution_count": 12,
   "metadata": {},
   "outputs": [],
   "source": [
    "#Binary numbers\n",
    "1024 512 256 128 64 32 16 8 4 2 1\n",
    "                          1 0 0 0   \n",
    "                          0 1 0 0 \n",
    "                          0 0 1 0\n",
    "                          0 0 0 1\n",
    "                          0 0 0 0\n",
    "                        1 1 0 1 1\n",
    "                        1 1 0 0 1"
   ]
  },
  {
   "cell_type": "code",
   "execution_count": 4,
   "metadata": {},
   "outputs": [
    {
     "name": "stdout",
     "output_type": "stream",
     "text": [
      "A     B     A AND B    A OR B     A XOR B   \n",
      "0     0     0          0          0         \n",
      "0     1     0          1          1         \n",
      "1     0     0          1          1         \n",
      "1     1     1          1          0         \n"
     ]
    }
   ],
   "source": [
    "#Truth table"
   ]
  },
  {
   "cell_type": "markdown",
   "metadata": {},
   "source": [
    "bitwise_operations"
   ]
  },
  {
   "cell_type": "code",
   "execution_count": 15,
   "metadata": {},
   "outputs": [],
   "source": [
    "a=2\n",
    "b=3"
   ]
  },
  {
   "cell_type": "code",
   "execution_count": 16,
   "metadata": {},
   "outputs": [
    {
     "name": "stdout",
     "output_type": "stream",
     "text": [
      "A AND B = 0010 (binary), 2 (decimal)\n"
     ]
    }
   ],
   "source": [
    "# Bitwise AND\n",
    "and_result = a & b\n",
    "print(f\"A AND B = {and_result:04b} (binary), {and_result} (decimal)\")"
   ]
  },
  {
   "cell_type": "code",
   "execution_count": 17,
   "metadata": {},
   "outputs": [
    {
     "name": "stdout",
     "output_type": "stream",
     "text": [
      "A OR B  = 0011 (binary), 3 (decimal)\n"
     ]
    }
   ],
   "source": [
    "# Bitwise OR\n",
    "or_result = a | b\n",
    "print(f\"A OR B  = {or_result:04b} (binary), {or_result} (decimal)\")"
   ]
  },
  {
   "cell_type": "code",
   "execution_count": 18,
   "metadata": {},
   "outputs": [
    {
     "name": "stdout",
     "output_type": "stream",
     "text": [
      "A XOR B = 0001 (binary), 1 (decimal)\n"
     ]
    }
   ],
   "source": [
    "# Bitwise XOR\n",
    "xor_result = a ^ b\n",
    "print(f\"A XOR B = {xor_result:04b} (binary), {xor_result} (decimal)\")\n"
   ]
  }
 ],
 "metadata": {
  "kernelspec": {
   "display_name": "base",
   "language": "python",
   "name": "python3"
  },
  "language_info": {
   "codemirror_mode": {
    "name": "ipython",
    "version": 3
   },
   "file_extension": ".py",
   "mimetype": "text/x-python",
   "name": "python",
   "nbconvert_exporter": "python",
   "pygments_lexer": "ipython3",
   "version": "3.11.7"
  }
 },
 "nbformat": 4,
 "nbformat_minor": 2
}
