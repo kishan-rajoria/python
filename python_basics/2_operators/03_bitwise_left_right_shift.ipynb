{
 "cells": [
  {
   "cell_type": "markdown",
   "metadata": {},
   "source": [
    ">>Bitwise Left Shift (<<)\n",
    "The bitwise left shift operation shifts the bits of the number to the left by the specified number of positions. Each left shift by one position multiplies the number by 2.\n",
    "\n",
    ">>Bitwise Right Shift (>>)\n",
    "The bitwise right shift operation shifts the bits of the number to the right by the specified number of positions. Each right shift by one position divides the number by 2, discarding any remainder."
   ]
  },
  {
   "cell_type": "code",
   "execution_count": 5,
   "metadata": {},
   "outputs": [],
   "source": [
    "# Test the function with examples\n",
    "a=13\n",
    "shift_amount=2 # Example with A = 13 (00001101 in binary) and shift amount = 2"
   ]
  },
  {
   "cell_type": "markdown",
   "metadata": {},
   "source": [
    "- Binary Representation: We use :08b in the format string to print the binary representation of the numbers, ensuring it is at least 8 bits long.\n",
    "\n",
    "- Bitwise Left Shift: a << shift_amount shifts the bits of a to the left by shift_amount positions. For example, for a = 13 (00001101 in binary) and shift_amount = 2:\n",
    "\n",
    "        00001101\n",
    "        << 2\n",
    "        --------\n",
    "        00110100 (52 in decimal)\n",
    "        This shifts the bits to the left by 2 positions, filling the rightmost bits with 0.\n",
    "\n",
    "- Bitwise Right Shift: a >> shift_amount shifts the bits of a to the right by shift_amount positions. For the same a and shift_amount:\n",
    "\n",
    "        00001101\n",
    "        '>> 2\n",
    "        --------\n",
    "        00000011 (3 in decimal)\n",
    "        This shifts the bits to the right by 2 positions, discarding the rightmost bits."
   ]
  },
  {
   "cell_type": "code",
   "execution_count": 6,
   "metadata": {},
   "outputs": [
    {
     "name": "stdout",
     "output_type": "stream",
     "text": [
      "A << 2 = 00110100 (binary), 52 (decimal)\n"
     ]
    }
   ],
   "source": [
    "# Bitwise Left Shift\n",
    "left_shift_result = a << shift_amount\n",
    "print(f\"A << {shift_amount} = {left_shift_result:08b} (binary), {left_shift_result} (decimal)\")"
   ]
  },
  {
   "cell_type": "code",
   "execution_count": 8,
   "metadata": {},
   "outputs": [
    {
     "name": "stdout",
     "output_type": "stream",
     "text": [
      "A >> 2 = 00000011 (binary), 3 (decimal)\n"
     ]
    }
   ],
   "source": [
    "# Bitwise Right Shift\n",
    "right_shift_result = a >> shift_amount\n",
    "print(f\"A >> {shift_amount} = {right_shift_result:08b} (binary), {right_shift_result} (decimal)\")\n"
   ]
  }
 ],
 "metadata": {
  "kernelspec": {
   "display_name": "base",
   "language": "python",
   "name": "python3"
  },
  "language_info": {
   "codemirror_mode": {
    "name": "ipython",
    "version": 3
   },
   "file_extension": ".py",
   "mimetype": "text/x-python",
   "name": "python",
   "nbconvert_exporter": "python",
   "pygments_lexer": "ipython3",
   "version": "3.11.7"
  }
 },
 "nbformat": 4,
 "nbformat_minor": 2
}
