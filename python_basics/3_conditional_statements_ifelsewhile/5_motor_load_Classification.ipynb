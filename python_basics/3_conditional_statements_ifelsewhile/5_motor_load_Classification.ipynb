{
 "cells": [
  {
   "cell_type": "markdown",
   "metadata": {},
   "source": [
    "**Question 4: Motor Load Type**\n",
    ">Write a program that determines the load type of a motor based on user input for current and voltage. Use the following criteria:\n",
    "\n",
    "- Light Load: Current < 10A and Voltage < 220V\n",
    "- Medium Load: Current between 10A and 30A (inclusive) and Voltage between 220V and 440V (inclusive)\n",
    "- Heavy Load: Current > 30A or Voltage > 440V"
   ]
  },
  {
   "cell_type": "code",
   "execution_count": 26,
   "metadata": {},
   "outputs": [
    {
     "name": "stdout",
     "output_type": "stream",
     "text": [
      "The motor load type is Light Load\n",
      "Current is:  5.0\n",
      "voltage is:  100.0\n"
     ]
    }
   ],
   "source": [
    "# Take user input\n",
    "current = float(input(\"Enter the current (in A): \"))\n",
    "voltage = float(input(\"Enter the voltage (in V): \"))\n",
    "\n",
    "#program to Determine the load type\n",
    "\n",
    "if current < 10 and voltage < 220:\n",
    "    print(\"The motor load type is Light Load\")\n",
    "    print(\"Current is: \", current)\n",
    "    print(\"voltage is: \",voltage)\n",
    "elif 10 <= current <= 30 and 220 <= voltage <= 440:\n",
    "    print(\"The motor load type is Medium Load\")\n",
    "    print(\"Current is: \", current)\n",
    "    print(\"voltage is: \",voltage)\n",
    "\n",
    "elif current > 30 or voltage > 440:\n",
    "    print(\"The motor load type is Heavy Load\")\n",
    "    print(\"Current is: \", current)\n",
    "    print(\"voltage is: \",voltage)\n",
    "else:\n",
    "    print(\"Invalid values\")\n",
    "    print(\"Current is: \", current)\n",
    "    print(\"voltage is: \",voltage)"
   ]
  },
  {
   "cell_type": "code",
   "execution_count": 27,
   "metadata": {},
   "outputs": [
    {
     "name": "stdout",
     "output_type": "stream",
     "text": [
      "The motor load type is Medium Load\n",
      "Current is:  20.0\n",
      "voltage is:  250.0\n"
     ]
    }
   ],
   "source": [
    "# Take user input\n",
    "current = float(input(\"Enter the current (in A): \"))\n",
    "voltage = float(input(\"Enter the voltage (in V): \"))\n",
    "\n",
    "#program to Determine the load type\n",
    "\n",
    "if current < 10 and voltage < 220:\n",
    "    print(\"The motor load type is Light Load\")\n",
    "    print(\"Current is: \", current)\n",
    "    print(\"voltage is: \",voltage)\n",
    "elif 10 <= current <= 30 and 220 <= voltage <= 440:\n",
    "    print(\"The motor load type is Medium Load\")\n",
    "    print(\"Current is: \", current)\n",
    "    print(\"voltage is: \",voltage)\n",
    "\n",
    "elif current > 30 or voltage > 440:\n",
    "    print(\"The motor load type is Heavy Load\")\n",
    "    print(\"Current is: \", current)\n",
    "    print(\"voltage is: \",voltage)\n",
    "else:\n",
    "    print(\"Invalid values\")\n",
    "    print(\"Current is: \", current)\n",
    "    print(\"voltage is: \",voltage)"
   ]
  },
  {
   "cell_type": "code",
   "execution_count": 28,
   "metadata": {},
   "outputs": [
    {
     "name": "stdout",
     "output_type": "stream",
     "text": [
      "The motor load type is Heavy Load\n",
      "Current is:  40.0\n",
      "voltage is:  470.0\n"
     ]
    }
   ],
   "source": [
    "# Take user input\n",
    "current = float(input(\"Enter the current (in A): \"))\n",
    "voltage = float(input(\"Enter the voltage (in V): \"))\n",
    "\n",
    "#program to Determine the load type\n",
    "\n",
    "if current < 10 and voltage < 220:\n",
    "    print(\"The motor load type is Light Load\")\n",
    "    print(\"Current is: \", current)\n",
    "    print(\"voltage is: \",voltage)\n",
    "elif 10 <= current <= 30 and 220 <= voltage <= 440:\n",
    "    print(\"The motor load type is Medium Load\")\n",
    "    print(\"Current is: \", current)\n",
    "    print(\"voltage is: \",voltage)\n",
    "\n",
    "elif current > 30 or voltage > 440:\n",
    "    print(\"The motor load type is Heavy Load\")\n",
    "    print(\"Current is: \", current)\n",
    "    print(\"voltage is: \",voltage)\n",
    "else:\n",
    "    print(\"Invalid values\")\n",
    "    print(\"Current is: \", current)\n",
    "    print(\"voltage is: \",voltage)"
   ]
  },
  {
   "cell_type": "code",
   "execution_count": 32,
   "metadata": {},
   "outputs": [
    {
     "name": "stdout",
     "output_type": "stream",
     "text": [
      "Invalid values\n"
     ]
    }
   ],
   "source": [
    "# Take user input\n",
    "current = float(input(\"Enter the current (in A): \"))\n",
    "voltage = float(input(\"Enter the voltage (in V): \"))\n",
    "\n",
    "#program to Determine the load type\n",
    "\n",
    "if current < 10 and voltage < 220:\n",
    "    print(\"The motor load type is Light Load\")\n",
    "    print(\"Current is: \", current)\n",
    "    print(\"voltage is: \",voltage)\n",
    "elif 10 <= current <= 30 and 220 <= voltage <= 440:\n",
    "    print(\"The motor load type is Medium Load\")\n",
    "    print(\"Current is: \", current)\n",
    "    print(\"voltage is: \",voltage)\n",
    "\n",
    "elif current > 30 or voltage > 440:\n",
    "    print(\"The motor load type is Heavy Load\")\n",
    "    print(\"Current is: \", current)\n",
    "    print(\"voltage is: \",voltage)\n",
    "else:\n",
    "    print(\"Invalid values\")\n",
    "    print(\"Current is: \", current)\n",
    "    print(\"voltage is: \",voltage)"
   ]
  },
  {
   "cell_type": "code",
   "execution_count": null,
   "metadata": {},
   "outputs": [],
   "source": []
  }
 ],
 "metadata": {
  "kernelspec": {
   "display_name": "base",
   "language": "python",
   "name": "python3"
  },
  "language_info": {
   "codemirror_mode": {
    "name": "ipython",
    "version": 3
   },
   "file_extension": ".py",
   "mimetype": "text/x-python",
   "name": "python",
   "nbconvert_exporter": "python",
   "pygments_lexer": "ipython3",
   "version": "3.11.7"
  }
 },
 "nbformat": 4,
 "nbformat_minor": 2
}
