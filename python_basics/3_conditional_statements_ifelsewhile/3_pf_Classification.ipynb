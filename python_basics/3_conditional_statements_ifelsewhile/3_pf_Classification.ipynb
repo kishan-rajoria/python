{
 "cells": [
  {
   "cell_type": "markdown",
   "metadata": {},
   "source": [
    "**Question 2: Power Factor Classification**"
   ]
  },
  {
   "cell_type": "markdown",
   "metadata": {},
   "source": [
    ">Write a program that classifies the power factor of an electrical load as Leading, Lagging, or Unity based on user input. Use the following criteria:\n",
    "\n",
    "- Leading: -1 to 0 (exclusive)\n",
    "- Unity: 1\n",
    "- Lagging: 0 to 1 (exclusive)\n",
    "- Poor: 0"
   ]
  },
  {
   "cell_type": "code",
   "execution_count": 13,
   "metadata": {},
   "outputs": [
    {
     "name": "stdout",
     "output_type": "stream",
     "text": [
      "poor power factor: 0.0\n"
     ]
    }
   ],
   "source": [
    "#take user input\n",
    "pf=float(input(\"Enter value of the power factor: \"))\n",
    "\n",
    "#if else program\n",
    "\n",
    "if pf>=-1 and pf<=1:\n",
    "    if pf<0:\n",
    "        print(\"leading power factor:\", pf)\n",
    "    elif pf==1:\n",
    "        print(\"unity power factor: \", pf)\n",
    "    elif pf>0:\n",
    "        print(\"lagging power factor: \", pf)\n",
    "    elif pf==0:\n",
    "        print(\"poor power factor:\", pf)\n",
    "        \n",
    "else:\n",
    "    print(\"invalid value\")"
   ]
  },
  {
   "cell_type": "code",
   "execution_count": 14,
   "metadata": {},
   "outputs": [
    {
     "name": "stdout",
     "output_type": "stream",
     "text": [
      "leading power factor: -0.95\n"
     ]
    }
   ],
   "source": [
    "#take user input\n",
    "pf=float(input(\"Enter value of the power factor: \"))\n",
    "\n",
    "#if else program\n",
    "\n",
    "if pf>=-1 and pf<=1:\n",
    "    if pf<0:\n",
    "        print(\"leading power factor:\", pf)\n",
    "    elif pf==1:\n",
    "        print(\"unity power factor: \", pf)\n",
    "    elif pf>0:\n",
    "        print(\"lagging power factor: \", pf)\n",
    "    elif pf==0:\n",
    "        print(\"poor power factor:\", pf)\n",
    "        \n",
    "else:\n",
    "    print(\"invalid value\")"
   ]
  },
  {
   "cell_type": "code",
   "execution_count": 15,
   "metadata": {},
   "outputs": [
    {
     "name": "stdout",
     "output_type": "stream",
     "text": [
      "lagging power factor:  0.998\n"
     ]
    }
   ],
   "source": [
    "#take user input\n",
    "pf=float(input(\"Enter value of the power factor: \"))\n",
    "\n",
    "#if else program\n",
    "\n",
    "if pf>=-1 and pf<=1:\n",
    "    if pf<0:\n",
    "        print(\"leading power factor:\", pf)\n",
    "    elif pf==1:\n",
    "        print(\"unity power factor: \", pf)\n",
    "    elif pf>0:\n",
    "        print(\"lagging power factor: \", pf)\n",
    "    elif pf==0:\n",
    "        print(\"poor power factor:\", pf)\n",
    "        \n",
    "else:\n",
    "    print(\"invalid value\")"
   ]
  },
  {
   "cell_type": "code",
   "execution_count": 17,
   "metadata": {},
   "outputs": [
    {
     "name": "stdout",
     "output_type": "stream",
     "text": [
      "invalid value 12.0\n"
     ]
    }
   ],
   "source": [
    "#take user input\n",
    "pf=float(input(\"Enter value of the power factor: \"))\n",
    "\n",
    "#if else program\n",
    "\n",
    "if pf>=-1 and pf<=1:\n",
    "    if pf<0:\n",
    "        print(\"leading power factor:\", pf)\n",
    "    elif pf==1:\n",
    "        print(\"unity power factor: \", pf)\n",
    "    elif pf>0:\n",
    "        print(\"lagging power factor: \", pf)\n",
    "    elif pf==0:\n",
    "        print(\"poor power factor:\", pf)\n",
    "        \n",
    "else:\n",
    "    print(\"invalid value\", pf)"
   ]
  }
 ],
 "metadata": {
  "kernelspec": {
   "display_name": "base",
   "language": "python",
   "name": "python3"
  },
  "language_info": {
   "codemirror_mode": {
    "name": "ipython",
    "version": 3
   },
   "file_extension": ".py",
   "mimetype": "text/x-python",
   "name": "python",
   "nbconvert_exporter": "python",
   "pygments_lexer": "ipython3",
   "version": "3.11.7"
  }
 },
 "nbformat": 4,
 "nbformat_minor": 2
}
