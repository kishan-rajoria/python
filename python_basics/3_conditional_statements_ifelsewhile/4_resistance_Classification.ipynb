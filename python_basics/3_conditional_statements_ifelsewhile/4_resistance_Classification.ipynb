{
 "cells": [
  {
   "cell_type": "markdown",
   "metadata": {},
   "source": [
    "**Question 3: Electrical Resistance Category**\n",
    "\n",
    ">Write a program that categorizes an electrical resistance as Low, Medium, High, or Superconductive based on user input. Use the following criteria:\n",
    "\n",
    "- Superconductive: 0 ohms\n",
    "- Low: 0.1 - 10 ohms\n",
    "- Medium: 10.1 - 1000 ohms\n",
    "- High: Above 1000 ohms"
   ]
  },
  {
   "cell_type": "code",
   "execution_count": 18,
   "metadata": {},
   "outputs": [
    {
     "name": "stdout",
     "output_type": "stream",
     "text": [
      "Superconductive 0\n"
     ]
    }
   ],
   "source": [
    "#take user input\n",
    "resistance =int(input(\"enter value of electrical resistance: \"))\n",
    "\n",
    "#program\n",
    "\n",
    "if resistance >=0:\n",
    "    if resistance ==0:\n",
    "        print(\"Superconductive\", resistance )\n",
    "    elif resistance >0.1 and resistance <10:\n",
    "        print(\"low\", resistance )\n",
    "    elif resistance >10.1 and resistance <1000:\n",
    "        print(\"Medium\", resistance )\n",
    "    elif resistance >1000:\n",
    "        print(\"High\", resistance )\n",
    "        \n",
    "else:\n",
    "    print(\"invalid value: \", resistance)"
   ]
  },
  {
   "cell_type": "code",
   "execution_count": 19,
   "metadata": {},
   "outputs": [
    {
     "name": "stdout",
     "output_type": "stream",
     "text": [
      "low 5\n"
     ]
    }
   ],
   "source": [
    "#take user input\n",
    "resistance =int(input(\"enter value of electrical resistance: \"))\n",
    "\n",
    "#program\n",
    "\n",
    "if resistance >=0:\n",
    "    if resistance ==0:\n",
    "        print(\"Superconductive\", resistance )\n",
    "    elif resistance >0.1 and resistance <10:\n",
    "        print(\"low\", resistance )\n",
    "    elif resistance >10.1 and resistance <1000:\n",
    "        print(\"Medium\", resistance )\n",
    "    elif resistance >1000:\n",
    "        print(\"High\", resistance )\n",
    "        \n",
    "else:\n",
    "    print(\"invalid value: \", resistance)"
   ]
  },
  {
   "cell_type": "code",
   "execution_count": 20,
   "metadata": {},
   "outputs": [
    {
     "name": "stdout",
     "output_type": "stream",
     "text": [
      "Medium 500\n"
     ]
    }
   ],
   "source": [
    "#take user input\n",
    "resistance =int(input(\"enter value of electrical resistance: \"))\n",
    "\n",
    "#program\n",
    "\n",
    "if resistance >=0:\n",
    "    if resistance ==0:\n",
    "        print(\"Superconductive\", resistance )\n",
    "    elif resistance >0.1 and resistance <10:\n",
    "        print(\"low\", resistance )\n",
    "    elif resistance >10.1 and resistance <1000:\n",
    "        print(\"Medium\", resistance )\n",
    "    elif resistance >1000:\n",
    "        print(\"High\", resistance )\n",
    "        \n",
    "else:\n",
    "    print(\"invalid value: \", resistance)"
   ]
  },
  {
   "cell_type": "code",
   "execution_count": 21,
   "metadata": {},
   "outputs": [
    {
     "name": "stdout",
     "output_type": "stream",
     "text": [
      "High 2000\n"
     ]
    }
   ],
   "source": [
    "#take user input\n",
    "resistance =int(input(\"enter value of electrical resistance: \"))\n",
    "\n",
    "#program\n",
    "\n",
    "if resistance >=0:\n",
    "    if resistance ==0:\n",
    "        print(\"Superconductive\", resistance )\n",
    "    elif resistance >0.1 and resistance <10:\n",
    "        print(\"low\", resistance )\n",
    "    elif resistance >10.1 and resistance <1000:\n",
    "        print(\"Medium\", resistance )\n",
    "    elif resistance >1000:\n",
    "        print(\"High\", resistance )\n",
    "        \n",
    "else:\n",
    "    print(\"invalid value: \", resistance)"
   ]
  },
  {
   "cell_type": "code",
   "execution_count": 22,
   "metadata": {},
   "outputs": [
    {
     "name": "stdout",
     "output_type": "stream",
     "text": [
      "invalid value:  -5\n"
     ]
    }
   ],
   "source": [
    "#take user input\n",
    "resistance =int(input(\"enter value of electrical resistance: \"))\n",
    "\n",
    "#program\n",
    "\n",
    "if resistance >=0:\n",
    "    if resistance ==0:\n",
    "        print(\"Superconductive\", resistance )\n",
    "    elif resistance >0.1 and resistance <10:\n",
    "        print(\"low\", resistance )\n",
    "    elif resistance >10.1 and resistance <1000:\n",
    "        print(\"Medium\", resistance )\n",
    "    elif resistance >1000:\n",
    "        print(\"High\", resistance )\n",
    "        \n",
    "else:\n",
    "    print(\"invalid value: \", resistance)"
   ]
  }
 ],
 "metadata": {
  "kernelspec": {
   "display_name": "base",
   "language": "python",
   "name": "python3"
  },
  "language_info": {
   "codemirror_mode": {
    "name": "ipython",
    "version": 3
   },
   "file_extension": ".py",
   "mimetype": "text/x-python",
   "name": "python",
   "nbconvert_exporter": "python",
   "pygments_lexer": "ipython3",
   "version": "3.11.7"
  }
 },
 "nbformat": 4,
 "nbformat_minor": 2
}
