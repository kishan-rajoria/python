{
 "cells": [
  {
   "cell_type": "markdown",
   "metadata": {},
   "source": [
    "**Question 1: Voltage Level Classification**"
   ]
  },
  {
   "cell_type": "markdown",
   "metadata": {},
   "source": [
    ">Write a program that classifies a voltage level as Low, Medium, or High based on user input. Use the following criteria:\n",
    "\n",
    "- Low: 0-50V\n",
    "- Medium: 51-200V\n",
    "- High: 201V and above"
   ]
  },
  {
   "cell_type": "code",
   "execution_count": 5,
   "metadata": {},
   "outputs": [
    {
     "name": "stdout",
     "output_type": "stream",
     "text": [
      "Voltage level is LOW and value is:  49\n"
     ]
    }
   ],
   "source": [
    "# take user input\n",
    "voltage =int(input(\"enter the voltage (in volts): \"))\n",
    "if voltage >=0:\n",
    "    if voltage<=50:\n",
    "        \n",
    "        print(\"Voltage level is LOW and value is: \", voltage)\n",
    "    elif voltage <=200:\n",
    "    \n",
    "        print(\"Voltage level is Medium and value is: \", voltage)\n",
    "    else:\n",
    "        print(\"Voltage level is High and value is: \", voltage)\n",
    "else:\n",
    "    print(\"invalid value\")"
   ]
  },
  {
   "cell_type": "code",
   "execution_count": 6,
   "metadata": {},
   "outputs": [
    {
     "name": "stdout",
     "output_type": "stream",
     "text": [
      "Voltage level is Medium and value is:  110\n"
     ]
    }
   ],
   "source": [
    "# take user input\n",
    "voltage =int(input(\"enter the voltage (in volts): \"))\n",
    "if voltage >=0:\n",
    "    if voltage<=50:\n",
    "        \n",
    "        print(\"Voltage level is LOW and value is: \", voltage)\n",
    "    elif voltage <=200:\n",
    "    \n",
    "        print(\"Voltage level is Medium and value is: \", voltage)\n",
    "    else:\n",
    "        print(\"Voltage level is High and value is: \", voltage)\n",
    "else:\n",
    "    print(\"invalid value\")"
   ]
  },
  {
   "cell_type": "code",
   "execution_count": 7,
   "metadata": {},
   "outputs": [
    {
     "name": "stdout",
     "output_type": "stream",
     "text": [
      "Voltage level is High and value is:  250\n"
     ]
    }
   ],
   "source": [
    "# take user input\n",
    "voltage =int(input(\"enter the voltage (in volts): \"))\n",
    "if voltage >=0:\n",
    "    if voltage<=50:\n",
    "        \n",
    "        print(\"Voltage level is LOW and value is: \", voltage)\n",
    "    elif voltage <=200:\n",
    "    \n",
    "        print(\"Voltage level is Medium and value is: \", voltage)\n",
    "    else:\n",
    "        print(\"Voltage level is High and value is: \", voltage)\n",
    "else:\n",
    "    print(\"invalid value\")"
   ]
  },
  {
   "cell_type": "code",
   "execution_count": 8,
   "metadata": {},
   "outputs": [
    {
     "name": "stdout",
     "output_type": "stream",
     "text": [
      "invalid value\n"
     ]
    }
   ],
   "source": [
    "# take user input\n",
    "voltage =int(input(\"enter the voltage (in volts): \"))\n",
    "if voltage >=0:\n",
    "    if voltage<=50:\n",
    "        \n",
    "        print(\"Voltage level is LOW and value is: \", voltage)\n",
    "    elif voltage <=200:\n",
    "    \n",
    "        print(\"Voltage level is Medium and value is: \", voltage)\n",
    "    else:\n",
    "        print(\"Voltage level is High and value is: \", voltage)\n",
    "else:\n",
    "    print(\"invalid value\")"
   ]
  },
  {
   "cell_type": "code",
   "execution_count": null,
   "metadata": {},
   "outputs": [],
   "source": []
  }
 ],
 "metadata": {
  "kernelspec": {
   "display_name": "base",
   "language": "python",
   "name": "python3"
  },
  "language_info": {
   "codemirror_mode": {
    "name": "ipython",
    "version": 3
   },
   "file_extension": ".py",
   "mimetype": "text/x-python",
   "name": "python",
   "nbconvert_exporter": "python",
   "pygments_lexer": "ipython3",
   "version": "3.11.7"
  }
 },
 "nbformat": 4,
 "nbformat_minor": 2
}
